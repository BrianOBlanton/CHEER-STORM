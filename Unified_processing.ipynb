{
 "cells": [
  {
   "cell_type": "markdown",
   "id": "0fbe4c77-ebbb-468e-89fe-cc1c16eaaacb",
   "metadata": {},
   "source": [
    "Version 1.6, 14 May 2024\n",
    "\n",
    "STORM Track dataset details: \n",
    "\n",
    "https://www.nature.com/articles/s41597-020-0381-2\n",
    "\n",
    "https://doi.org/10.4121/uuid:82c1dc0d-5485-43d8-901a-ce7f26cda35d\n",
    "\n",
    "https://data.4tu.nl/articles/STORM_IBTrACS_present_climate_synthetic_tropical_cyclone_tracks/12706085?file=24876980\n",
    "\n",
    "The 10,000 year TC STORM dataset, based on the present climate, is publicly accessible and can be found on the 4TU.Centre for Research Data repository (https://doi.org/10.4121/uuid:82c1dc0d-5485-43d8-901a-ce7f26cda35d). The dataset is split in separate files per basin, with each .txt-file containing 1,000 years of simulations (i.e. 10 files per basin). Each .txt-file consists of a series of arrays, with each array being a single time step (3-hourly) for a synthetic TC. The colmns of the arrays are given in this table:\n",
    "\n",
    "Image\n",
    "Bloemendaal, Nadia; Haigh, I.D. (Ivan); de Moel, H. (Hans); Muis, S; Haarsma, R.J. (Reindert) et. al. (2022): STORM IBTrACS present climate synthetic tropical cyclone tracks. Version 4. 4TU.ResearchData. dataset. https://doi.org/10.4121/12706085.v4\n",
    "\n",
    "Bloemendaal, Nadia; de Moel, H. (Hans); Martinez, Andrew B.; Muis, S. (Sanne); Haigh, I.D. (Ivan) et. al. (2023): STORM Climate Change synthetic tropical cyclone tracks. Version 2. 4TU.ResearchData. dataset. https://doi.org/10.4121/14237678.v2"
   ]
  },
  {
   "cell_type": "code",
   "execution_count": null,
   "id": "08fa58e6-14e7-44fd-a0de-9a278ab6a2e8",
   "metadata": {
    "tags": []
   },
   "outputs": [],
   "source": [
    "import os, sys\n",
    "import pandas as pd\n",
    "import numpy as np\n",
    "import matplotlib.pyplot as plt\n",
    "import matplotlib as mpl\n",
    "\n",
    "import cartopy.crs as ccrs\n",
    "\n",
    "import cheer_utils\n",
    "import importlib\n",
    "importlib.reload(cheer_utils)\n",
    "print(cheer_utils.__doc__)\n",
    "\n",
    "\n",
    "from scipy import interpolate as sci\n",
    "#from scipy.interpolate import RBFInterpolator\n",
    "\n",
    "# pd.options.mode.copy_on_write = True\n",
    "\n",
    "## https://visibleearth.nasa.gov/collection/1484/blue-marble\n",
    "## https://neo.gsfc.nasa.gov/view.php?datasetId=BlueMarbleNG\n",
    "#os.environ[\"CARTOPY_USER_BACKGROUNDS\"] = \"/home/bblanton/GitHub/BrianOBlanton/CHEER-STORM/static\"\n"
   ]
  },
  {
   "cell_type": "code",
   "execution_count": null,
   "id": "af98f570-01c8-4128-b031-4567b9bfc2d5",
   "metadata": {},
   "outputs": [],
   "source": [
    "# define dicts for filtering circles for case study areas:\n",
    "a=np.arange(0,370,10)*np.pi/180\n",
    "rad=5\n",
    "lo=-71.5\n",
    "la=33.75\n",
    "# test track screening circle\n",
    "# rad= .3\n",
    "# lo=-77.75\n",
    "# la=35\n",
    "nc_circ={'lo': lo,\n",
    "         'la': la, \n",
    "         'rad': rad,\n",
    "         'cirx': rad*np.cos(a)+lo,\n",
    "         'ciry': rad*np.sin(a)+la}\n",
    "\n",
    "rad=3\n",
    "lo=-94\n",
    "la=29.5\n",
    "tx_circ={'lo': lo,\n",
    "         'la':  la,\n",
    "         'rad': rad,\n",
    "         'cirx': rad*np.cos(a)+lo,\n",
    "         'ciry': rad*np.sin(a)+la}\n",
    "\n",
    "\n",
    "dlo, dla = 5, 5\n",
    "ext={ 0: [tx_circ['lo']-dlo, tx_circ['lo']+dlo, tx_circ['la']-dla, tx_circ['la']+dla],\n",
    "      1: [nc_circ['lo']-dlo, nc_circ['lo']+dlo, nc_circ['la']-dla, nc_circ['la']+dla]}\n"
   ]
  },
  {
   "cell_type": "code",
   "execution_count": null,
   "id": "f0f35c7e-f70d-4f2f-9eb3-5229d7fc7bc9",
   "metadata": {},
   "outputs": [],
   "source": [
    "# define some plotting vars\n",
    "makeplots=True\n",
    "writeoutputfiles=False\n",
    "# marker size\n",
    "sz=20"
   ]
  },
  {
   "cell_type": "markdown",
   "id": "f3ac7aa4-df14-41c4-b4f4-ad3f7ec5d0f6",
   "metadata": {
    "tags": []
   },
   "source": [
    "## Load IBTRaCS\n",
    "## converts units to MKS\n",
    "### Parameters to LoadIBTrACS:\n",
    "\n",
    "- minyear: delete tracks < minyear\n",
    "- maxyear: delete tracks > maxyear"
   ]
  },
  {
   "cell_type": "code",
   "execution_count": null,
   "id": "29f18a27-5d10-4431-bdfb-5422968fdcc7",
   "metadata": {},
   "outputs": [],
   "source": [
    "df_ib=cheer_utils.LoadIBTrACS() # minyear=1980)\n",
    "df_ib"
   ]
  },
  {
   "cell_type": "code",
   "execution_count": null,
   "id": "f148c6e9-ae08-446b-a281-661be2c92c2e",
   "metadata": {},
   "outputs": [],
   "source": [
    "# show complete track for storm with largest RMW\n",
    "# print(df_ib['RMW'].max())\n",
    "# df_ib.loc[df_ib.RMW.idxmax()]"
   ]
  },
  {
   "cell_type": "code",
   "execution_count": null,
   "id": "e690e1b9-8fc4-48a1-b015-8c2e3148557e",
   "metadata": {},
   "outputs": [],
   "source": [
    "# further screening of df\n",
    "#df_ib=df_ib.loc[(df_ib['NATURE']=='TS')]\n",
    "# & (df['Min_pres'] <= 980)]"
   ]
  },
  {
   "cell_type": "markdown",
   "id": "144cd743-ccfd-4bbe-8cd8-a29efc55c087",
   "metadata": {},
   "source": [
    "## load STORM dataset\n",
    "## default is to read first 1000 yrs of present climate\n",
    "### Parameters to LoadSTORMtracks:\n",
    "- basin='NA' \n",
    "- ensnum=0\n",
    "- climate='current'\n",
    "- model='present'\n",
    "- version='_V4'\n",
    "- nyears=None\n",
    "- startingyear=None"
   ]
  },
  {
   "cell_type": "code",
   "execution_count": null,
   "id": "18c88259-fafe-4ba7-b794-6c302d8f569d",
   "metadata": {},
   "outputs": [],
   "source": [
    "nyears=\"all\"\n",
    "df_st=cheer_utils.LoadSTORMtracks() # nyears=nyears)\n",
    "df_st"
   ]
  },
  {
   "cell_type": "markdown",
   "id": "d564701c-2ca2-4c70-8e24-d4e934bf87fa",
   "metadata": {},
   "source": [
    "### Load PEPC data"
   ]
  },
  {
   "cell_type": "code",
   "execution_count": null,
   "id": "0cc80bcc-e61a-42db-9144-132e3ddb48a6",
   "metadata": {},
   "outputs": [],
   "source": [
    "path2pepcfiles=\"PEPC_Tracks/reanal_100\"\n",
    "#setnums=range(1,11)\n",
    "setnums='all'\n",
    "pepc=cheer_utils.LoadPEPC(path2pepcfiles,setnums=setnums) # loads first set"
   ]
  },
  {
   "cell_type": "markdown",
   "id": "224a95f5-640c-43f2-b270-b4e48f456fa4",
   "metadata": {},
   "source": [
    "## Add distance to sites, Delta P, and Holland-B"
   ]
  },
  {
   "cell_type": "code",
   "execution_count": null,
   "id": "bca41ff5-0b9f-4a75-ad6e-8a75766c9124",
   "metadata": {},
   "outputs": [],
   "source": [
    "df_ib['dist2nc']=np.sqrt(np.square(df_ib['Longitude']-nc_circ['lo']) + np.square(df_ib['Latitude']-nc_circ['la']))\n",
    "df_ib['dist2tx']=np.sqrt(np.square(df_ib['Longitude']-tx_circ['lo']) + np.square(df_ib['Latitude']-tx_circ['la']))\n",
    "df_ib['HollandB']=cheer_utils.HbFromRmwLat(df_ib['RMW'],df_ib['Latitude'])\n",
    "df_ib['DeltaP']=-(df_ib['Min_pres']-1024)\n",
    "\n",
    "df_st['dist2nc']=np.sqrt(np.square(df_st['Longitude']-nc_circ['lo']) + np.square(df_st['Latitude']-nc_circ['la']))\n",
    "df_st['dist2tx']=np.sqrt(np.square(df_st['Longitude']-tx_circ['lo']) + np.square(df_st['Latitude']-tx_circ['la']))\n",
    "df_st['HollandB']=cheer_utils.HbFromRmwLat(df_st['RMW'],df_st['Latitude'])\n",
    "df_st['DeltaP']=-(df_st['Min_pres']-1013)"
   ]
  },
  {
   "cell_type": "markdown",
   "id": "b93c110c-8686-457e-b175-b5a25a88531b",
   "metadata": {},
   "source": [
    "## Apply \"spatial\" screening for study sites"
   ]
  },
  {
   "cell_type": "code",
   "execution_count": null,
   "id": "4038f569-14e2-484b-962d-c5d8558f4ff0",
   "metadata": {},
   "outputs": [],
   "source": [
    "df_ib_nc=df_ib.loc[(df_ib['dist2nc'] <= nc_circ['rad'])] #  & (df_ib['NATURE']=='TS')]\n",
    "df_st_nc=df_st.loc[(df_st['dist2nc'] <= nc_circ['rad'])]"
   ]
  },
  {
   "cell_type": "code",
   "execution_count": null,
   "id": "4f45c9cd-1c35-4352-be40-2e3386b05e77",
   "metadata": {},
   "outputs": [],
   "source": [
    "# extract genesis locations\n",
    "ib_glo=[]\n",
    "ib_gla=[]\n",
    "ib_gdp=[]\n",
    "\n",
    "IDX=np.unique(df_ib.index).astype(int)\n",
    "    \n",
    "for i,idx in enumerate(IDX): \n",
    "    ib_glo.append(df_ib.loc[df_ib.index==idx].Longitude.values[0])\n",
    "    ib_gla.append(df_ib.loc[df_ib.index==idx].Latitude.values[0])\n",
    "    ib_gdp.append(df_ib.loc[df_ib.index==idx].DeltaP.values[0])\n",
    "    \n",
    "    \n",
    "st_glo=[]\n",
    "st_gla=[]\n",
    "st_gdp=[]\n",
    "\n",
    "IDX=np.unique(df_st.index).astype(int)\n",
    "    \n",
    "for i,idx in enumerate(IDX): \n",
    "    st_glo.append(df_st.loc[df_st.index==idx].Longitude.values[0])\n",
    "    st_gla.append(df_st.loc[df_st.index==idx].Latitude.values[0])\n",
    "    st_gdp.append(df_st.loc[df_st.index==idx].DeltaP.values[0])\n",
    "        "
   ]
  },
  {
   "cell_type": "code",
   "execution_count": null,
   "id": "a1250d25-398e-40d1-a000-060ed84925ce",
   "metadata": {},
   "outputs": [],
   "source": [
    "data = {'Longitude': ib_glo, 'Latitude': ib_gla, 'DeltaP': ib_gdp}\n",
    "df_ib_g=pd.DataFrame.from_dict(data)\n",
    "data = {'Longitude': st_glo, 'Latitude': st_gla, 'DeltaP': st_gdp}\n",
    "df_st_g=pd.DataFrame.from_dict(data)"
   ]
  },
  {
   "cell_type": "code",
   "execution_count": null,
   "id": "520cadf8-bb95-4dfb-be99-ff6f1b49e80a",
   "metadata": {},
   "outputs": [],
   "source": [
    "pepc"
   ]
  },
  {
   "cell_type": "markdown",
   "id": "788ff573-8912-42ed-9fb0-aa6d15983291",
   "metadata": {},
   "source": [
    "## Track density plots"
   ]
  },
  {
   "cell_type": "code",
   "execution_count": null,
   "id": "6682b55c-f0f9-42aa-893f-6eace400ee09",
   "metadata": {},
   "outputs": [],
   "source": [
    "# generate a grid for histogram2d\n",
    "lo0=-100\n",
    "lo1=0\n",
    "la0=0\n",
    "la1=70\n",
    "dx,dy=2,2\n",
    "\n",
    "lon_bins=np.arange(lo0,lo1,dx)\n",
    "lat_bins=np.arange(la0,la1,dy)\n",
    "\n",
    "density=True\n",
    "log10=True\n",
    "normalized_count=False\n",
    "cmapName='RdBu_r'\n",
    "\n",
    "temp=df_ib\n",
    "density_ib,      _,      _ = np.histogram2d(temp.Longitude,temp.Latitude, bins=(lon_bins,lat_bins), density=density)\n",
    "temp=df_st\n",
    "density_st,      _,      _ = np.histogram2d(temp.Longitude,temp.Latitude, bins=(lon_bins,lat_bins), density=density)\n",
    "temp=pepc\n",
    "density_pc, xedges, yedges = np.histogram2d(temp.Longitude,temp.Latitude, bins=(lon_bins,lat_bins), density=density)\n",
    "\n",
    "print(density_ib.min(),density_ib.max())\n",
    "print(density_st.min(),density_st.max())\n",
    "print(density_pc.min(),density_pc.max())\n",
    "nc=10"
   ]
  },
  {
   "cell_type": "code",
   "execution_count": null,
   "id": "0accfda8-6b69-4bac-b3eb-bec92cf55133",
   "metadata": {},
   "outputs": [],
   "source": [
    "if makeplots:\n",
    "\n",
    "    fig, ax = plt.subplots(nrows=1,ncols=3,\n",
    "                           subplot_kw={'projection': ccrs.PlateCarree()},\n",
    "                           figsize=(24,12), sharey=True)\n",
    "  \n",
    "    if density:\n",
    "        \n",
    "        cbstr='Point density (n/N/area)'\n",
    "        \n",
    "        tol=1e-4\n",
    "\n",
    "        tempib=np.where(density_ib.T < tol, np.nan, density_ib.T)\n",
    "        tempst=np.where(density_st.T < tol, np.nan, density_st.T)\n",
    "        temppc=np.where(density_pc.T < tol, np.nan, density_pc.T)\n",
    "\n",
    "        if log10:\n",
    "            \n",
    "            vmin0, vmax0 = -4, -2.8\n",
    "            vmin1, vmax1 = vmin0, vmax0\n",
    "            vmin2, vmax2 = vmin0, vmax0\n",
    "            nc=12\n",
    "            tempib=np.log10(tempib)\n",
    "            tempst=np.log10(tempst)\n",
    "            temppc=np.log10(temppc)\n",
    "            cbstr=f'log10 ({cbstr})'\n",
    "            \n",
    "        else:\n",
    "            \n",
    "            vmin0, vmax0 = tol, 1e-3\n",
    "            vmin1, vmax1 = vmin0, vmax0\n",
    "            vmin2, vmax2 = vmin0, vmax0\n",
    "            nc=10\n",
    "            \n",
    "    else:\n",
    "        \n",
    "        cbstr='Count'\n",
    "        nc=10\n",
    "        \n",
    "        tempib=density_ib.T.copy()\n",
    "        tempst=density_st.T.copy()\n",
    "        temppc=density_pc.T.copy()\n",
    "        \n",
    "        tempib=np.where(tempib < 1, np.nan, tempib)\n",
    "        tempst=np.where(tempst < 1, np.nan, tempst)\n",
    "        temppc=np.where(temppc < 1, np.nan, temppc)\n",
    "        \n",
    "        print(np.nanmax(tempib),np.log10(np.nanmax(tempib)),np.ceil(np.log10(np.nanmax(tempib))))\n",
    "        print(np.nanmax(tempst),np.log10(np.nanmax(tempst)),np.ceil(np.log10(np.nanmax(tempst))))\n",
    "        print(np.nanmax(temppc),np.log10(np.nanmax(temppc)),np.ceil(np.log10(np.nanmax(temppc))))\n",
    "\n",
    "        if normalized_count:\n",
    "            \n",
    "            tempib=tempib/np.nanmax(tempib)\n",
    "            tempst=tempst/np.nanmax(tempst)\n",
    "            temppc=temppc/np.nanmax(temppc)\n",
    "            cbstr=f'Normalized {cbstr}'\n",
    "            vmin0,vmax0 = 0, 1\n",
    "            vmin1,vmax1 = 0, 1\n",
    "            vmin2,vmax2 = 0, 1\n",
    "\n",
    "        else:\n",
    "            \n",
    "            vmin0, vmax0 = 0, np.power(10,np.ceil(np.log10(np.nanmax(tempib))))\n",
    "            vmin1, vmax1 = 0, np.power(10,np.ceil(np.log10(np.nanmax(tempst))))\n",
    "            vmin2, vmax2 = 0, np.power(10,np.ceil(np.log10(np.nanmax(temppc))))\n",
    "            # vmin0,vmax0 = 0, 100\n",
    "            # vmin1,vmax1 = 0, 500\n",
    "            vmin0,vmax0 = 0, 20\n",
    "            vmin1,vmax1 = 0, 100            \n",
    "            vmin2,vmax2 = 0, 100            \n",
    "            \n",
    "    print(f'vmin0,vmax0={vmin0, vmax0}')\n",
    "    print(f'vmin1,vmax1={vmin1, vmax1}')\n",
    "    print(f'vmin2,vmax2={vmin2 ,vmax2}')\n",
    "    \n",
    "    tstr=[f'IBTRaCS \\n{df_ib[\"Year\"].min()}-{df_ib[\"Year\"].max()}',\n",
    "          f'STORM \\nnyears={nyears}, {int(df_st[\"Year\"].min())}-{int(df_st[\"Year\"].max())}',\n",
    "         'PEPC\\n all sets']\n",
    "        \n",
    "    ThisCmap=cheer_utils.discrete_cmap(nc, cmapName)\n",
    "\n",
    "    axm=[]\n",
    "    axm.append(ax[0].pcolormesh(lon_bins, lat_bins, tempib, cmap=ThisCmap, vmin=vmin0, vmax=vmax0)) \n",
    "    axm.append(ax[1].pcolormesh(lon_bins, lat_bins, tempst, cmap=ThisCmap, vmin=vmin1, vmax=vmax1)) \n",
    "    axm.append(ax[2].pcolormesh(lon_bins, lat_bins, temppc, cmap=ThisCmap, vmin=vmin2, vmax=vmax2)) \n",
    "\n",
    "    # hex grid\n",
    "    # axm.append(ax[0].hexbin(df_gib.Longitude,df_gib.Latitude, cmap=ThisCmap, bins='log' )) # ,  vmin=vmin, vmax=vmax) \n",
    "    # axm.append(ax[1].hexbin(df_gst.Longitude,df_gst.Latitude, cmap=ThisCmap, bins='log' )) # ,  vmin=vmin, vmax=vmax) \n",
    "\n",
    "    for i in range(0,3):\n",
    "        \n",
    "        #ax[i].axis('equal')\n",
    "        ax[i].set_ylim([la0, la1])\n",
    "        ax[i].set_xlim([lo0, lo1])\n",
    "        ax[i].grid(True)\n",
    "        ax[i].set_aspect(1.0/np.cos(np.mean(lat_bins) * np.pi / 180.0))\n",
    "        cb=fig.colorbar(axm[i], ax=ax[i], shrink=0.35)\n",
    "        cb.ax.set_ylabel(cbstr)\n",
    "        ax[i].stock_img()\n",
    "        #ax[i].background_img(name='BM', resolution='low')\n",
    "\n",
    "        ax[i].coastlines()\n",
    "        ax[i].set_title(tstr[i])\n",
    "        gl=ax[i].gridlines(draw_labels=True, linewidth=1, color='k', alpha=0.5, linestyle='--')\n",
    "        gl.top_labels = False\n",
    "        gl.right_labels = False\n",
    "        \n",
    "    ax[0].plot(nc_circ['cirx'],nc_circ['ciry'],transform=ccrs.PlateCarree(),color='k')\n",
    "    ax[1].plot(nc_circ['cirx'],nc_circ['ciry'],transform=ccrs.PlateCarree(),color='k')\n",
    "    ax[2].plot(nc_circ['cirx'],nc_circ['ciry'],transform=ccrs.PlateCarree(),color='k')\n",
    "    \n",
    "fig.suptitle(\"Track Position Density\",fontsize=28,y=0.85)\n",
    "#fig.suptitle(\"Genesis Locations\",fontsize=28,y=0.85)\n",
    "#fig.save(\"Genesis_Locations.png\")"
   ]
  },
  {
   "cell_type": "code",
   "execution_count": null,
   "id": "a6e9813b-0171-482a-ad67-4f6475bf3f2b",
   "metadata": {},
   "outputs": [],
   "source": [
    "importlib.reload(cheer_utils)\n",
    "norm = mpl.colors.Normalize(vmin=0, vmax=100)\n",
    "\n",
    "if makeplots:\n",
    "\n",
    "    fig, ax = plt.subplots(nrows=1,ncols=2,\n",
    "                           subplot_kw={'projection': ccrs.PlateCarree()},\n",
    "                           figsize=(16,7))\n",
    "    ax=ax.flatten()\n",
    "    \n",
    "    ax[0].stock_img()\n",
    "    ax[0].coastlines()\n",
    "    ax[1].stock_img()\n",
    "    ax[1].coastlines()\n",
    "    \n",
    "#     ax[0].plot(nc_circ['cirx'],nc_circ['ciry'],transform=ccrs.PlateCarree())\n",
    "#     ax[1].plot(tx_circ['cirx'],tx_circ['ciry'],transform=ccrs.PlateCarree())\n",
    "\n",
    "#     ax[0].plot(nc_circ['lo'],nc_circ['la'],marker='*',transform=ccrs.PlateCarree())\n",
    "#     ax[1].plot(tx_circ['lo'],tx_circ['la'],marker='*',transform=ccrs.PlateCarree())\n",
    "\n",
    "    for i in range(0,2):\n",
    "        ax[i].axis('equal')\n",
    "        ax[i].set_ylim([10, 50])\n",
    "        ax[i].set_xlim([-120, 0])\n",
    "        ax[i].grid(True)\n",
    "\n",
    "cheer_utils.TrackPlot(df_ib, axx=ax[0], addcolorbar=True, norm=norm)\n",
    "cheer_utils.TrackPlot(df_st, axx=ax[1], addcolorbar=True, norm=norm)"
   ]
  },
  {
   "cell_type": "code",
   "execution_count": null,
   "id": "2a87e52c-c2c8-404f-95a2-966c5e4ee08b",
   "metadata": {},
   "outputs": [],
   "source": [
    "print(df_ib_nc.shape)\n",
    "print(df_st_nc.shape)"
   ]
  },
  {
   "cell_type": "code",
   "execution_count": null,
   "id": "8a6f6d84-83ea-42dc-8bd5-2c3ecc5b516b",
   "metadata": {},
   "outputs": [],
   "source": [
    "fig, ax = plt.subplots(nrows=1,ncols=2,\n",
    "                       subplot_kw={'projection': ccrs.PlateCarree()},\n",
    "                       figsize=(16,6))\n",
    "ax=ax.flatten()\n",
    "\n",
    "ax[0].stock_img()\n",
    "ax[0].coastlines()\n",
    "ax[1].stock_img()\n",
    "ax[1].coastlines()\n",
    "\n",
    "ax[0].plot(nc_circ['cirx'],nc_circ['ciry'],transform=ccrs.PlateCarree())\n",
    "ax[1].plot(nc_circ['cirx'],nc_circ['ciry'],transform=ccrs.PlateCarree())\n",
    "\n",
    "ax[0].plot(nc_circ['lo'],nc_circ['la'],marker='*',transform=ccrs.PlateCarree())\n",
    "ax[1].plot(nc_circ['lo'],nc_circ['la'],marker='*',transform=ccrs.PlateCarree())\n",
    "\n",
    "cmap=cheer_utils.discrete_cmap(20, 'jet')\n",
    "\n",
    "for i in range(0,2):\n",
    "    ax[i].axis('equal')\n",
    "    ax[i].set_ylim([30, 40])\n",
    "    ax[i].set_xlim([-82, -65])\n",
    "    ax[i].grid(True)\n",
    "\n",
    "df_ib_nc.plot.scatter(\n",
    "            x='Longitude',\n",
    "            y='Latitude',\n",
    "            c='DeltaP',\n",
    "            ax=ax[0],vmin=0,vmax=80,cmap=cmap)\n",
    "df_st_nc.plot.scatter(\n",
    "            x='Longitude',\n",
    "            y='Latitude',\n",
    "            c='DeltaP',\n",
    "            ax=ax[1],vmin=0,vmax=80,cmap=cmap)\n",
    "\n",
    "ax[0].set_title('IBTrACS')\n",
    "ax[1].set_title('STORM')"
   ]
  },
  {
   "cell_type": "code",
   "execution_count": null,
   "id": "4e78f4a0-fcc2-4907-8d07-899ea51f14bb",
   "metadata": {},
   "outputs": [],
   "source": [
    "fig, ax = plt.subplots(nrows=1,ncols=2,\n",
    "                       figsize=(12,5),sharey=True)\n",
    "k='DeltaP'\n",
    "i=2\n",
    "axx=(df_ib_nc[k]).hist(ax=ax[0], density=True, bins=range(0,100,5))\n",
    "#axx=((df_ib[k])).hist(ax=ax[0], density=True, bins=range(900,1020,10))\n",
    "axx.set_ylim([0, .040])\n",
    "axx.set_xlabel('[mb]')\n",
    "ax[0].set_title(f'IBTrACS {k}',fontsize=20)\n",
    "\n",
    "i=3\n",
    "axx=(df_st_nc[k]).hist(ax=ax[1],density=True, bins=range(0,100,5))\n",
    "#axx=((df_st['RMW'])).hist( ax=ax[1],density=True, bins=range(900,1020,10))\n",
    "axx.set_ylim([0, .040])\n",
    "axx.set_xlabel('[mb]')\n",
    "ax[1].set_title(f'STORM {k}',fontsize=20)"
   ]
  },
  {
   "cell_type": "code",
   "execution_count": null,
   "id": "1a0f8bf4-1406-4cea-9d0e-e59505f31054",
   "metadata": {},
   "outputs": [],
   "source": [
    "pd.cut(df_ib_nc.DeltaP, bins=10)"
   ]
  },
  {
   "cell_type": "code",
   "execution_count": null,
   "id": "ea82fdf8-9944-4232-b9f6-8c0469d1ec45",
   "metadata": {},
   "outputs": [],
   "source": [
    "#genesis  dp\n",
    "fig, ax = plt.subplots(nrows=1,ncols=2,figsize=(16,4), sharey=True) \n",
    "\n",
    "ax=ax.flatten()\n",
    "\n",
    "k='DeltaP'\n",
    "i=0\n",
    "axx=((df_ib_g[k])).hist(ax=ax[i], density=True, bins=range(0,50,2))\n",
    "#axx=((df_ib[k])).hist(ax=ax[0], density=True, bins=range(900,1020,10))\n",
    "#axx.set_ylim([0, .040])\n",
    "#axx.set_xlabel(k)\n",
    "ax[i].set_title(k,fontsize=20)\n",
    "ax[i].set_title(f'IBTrACS {k}',fontsize=20)\n",
    "\n",
    "i=1\n",
    "axx=((df_st_g[k])).hist(ax=ax[i],density=True, bins=range(0,50,2))\n",
    "#axx=((df_st['RMW'])).hist( ax=ax[1],density=True, bins=range(900,1020,10))\n",
    "#axx.set_ylim([0, .040])\n",
    "#axx.set_xlabel(k)\n",
    "ax[i].set_title(f'STORM {k}',fontsize=20)\n",
    "\n",
    "print(df_ib_g[k].max())\n",
    "print(df_st_g[k].max())\n"
   ]
  },
  {
   "cell_type": "code",
   "execution_count": null,
   "id": "d76857af-15d2-45ba-b7ed-ce88f473e9ca",
   "metadata": {
    "tags": []
   },
   "outputs": [],
   "source": [
    "fig, ax = plt.subplots(nrows=2,ncols=2,figsize=(16,7), sharey=True) \n",
    "\n",
    "ax=ax.flatten()\n",
    "\n",
    "k='DeltaP'\n",
    "i=0\n",
    "axx=((df_ib_nc[k])).hist(ax=ax[i], density=True, bins=range(0,140,10))\n",
    "#axx=((df_ib[k])).hist(ax=ax[0], density=True, bins=range(900,1020,10))\n",
    "#axx.set_ylim([0, .040])\n",
    "#axx.set_xlabel(k)\n",
    "ax[i].set_title(k,fontsize=20)\n",
    "\n",
    "i=2\n",
    "axx=((df_st_nc[k])).hist(ax=ax[i],density=True, bins=range(0,140,10))\n",
    "#axx=((df_st['RMW'])).hist( ax=ax[1],density=True, bins=range(900,1020,10))\n",
    "#axx.set_ylim([0, .040])\n",
    "#axx.set_xlabel(k)\n",
    "ax[i].set_title('')\n",
    "\n",
    "print(df_ib_nc[k].max())\n",
    "print(df_st_nc[k].max())\n",
    "\n",
    "k='RMW'\n",
    "i=1\n",
    "axx=((df_ib_nc[k])).hist(ax=ax[i], density=True, bins=range(0,500,25))\n",
    "#axx.set_ylim([0, .012])\n",
    "#axx.set_xlabel(k)\n",
    "ax[i].set_title(k,fontsize=20)\n",
    "\n",
    "i=3\n",
    "axx=((df_st_nc[k])).hist(ax=ax[i],density=True, bins=range(0,500,25))\n",
    "#axx.set_ylim([0, .012])\n",
    "#axx.set_xlabel(k)\n",
    "\n",
    "print(df_ib_nc[k].max())\n",
    "print(df_st_nc[k].max())"
   ]
  },
  {
   "cell_type": "code",
   "execution_count": null,
   "id": "083ac913-71da-449a-a44a-87397fb64067",
   "metadata": {},
   "outputs": [],
   "source": [
    "from scipy import stats\n",
    "stats.ks_2samp(df_ib_nc[np.isfinite(df_ib_nc['DeltaP'])].DeltaP, df_st_nc[np.isfinite(df_st_nc['DeltaP'])].DeltaP)\n",
    "\n",
    "# \"NC\" KstestResult(statistic=0.08930426008821235, pvalue=4.81719351118903e-15, statistic_location=42.0, statistic_sign=1)\n",
    "# all  KstestResult(statistic=0.1622379043492559, pvalue=0.0, statistic_location=24.0, statistic_sign=1)"
   ]
  },
  {
   "cell_type": "code",
   "execution_count": null,
   "id": "f515e4f8-ad7a-4586-8ec6-f60c75ec3ad4",
   "metadata": {},
   "outputs": [],
   "source": [
    "df_ib_nc[np.isfinite(df_ib_nc['DeltaP'])].DeltaP"
   ]
  },
  {
   "cell_type": "code",
   "execution_count": null,
   "id": "65fe831b-1680-42af-8adf-483ae9eb40bc",
   "metadata": {},
   "outputs": [],
   "source": [
    "df_ib[df_ib[\"RMW\"] > 35]"
   ]
  },
  {
   "cell_type": "markdown",
   "id": "1bff4c89-f83b-468c-80f0-e30c16c679f6",
   "metadata": {},
   "source": [
    "### interp experiments below.  not sorted out"
   ]
  },
  {
   "cell_type": "code",
   "execution_count": null,
   "id": "ffb20bac-0b68-4cdb-aad8-3bbd8c71831b",
   "metadata": {},
   "outputs": [],
   "source": [
    "\n",
    "x_i, y_i = np.meshgrid(np.linspace(-100, -60, 80), np.linspace(10, 50, 80))\n",
    "print(x_i.shape)\n",
    "xy_i = np.concatenate([x_i.reshape(-1, 1), y_i.reshape(-1, 1)], axis=1)\n",
    "\n",
    "# grid_x, grid_y = np.meshgrid(np.linspace(-90, -60, 20),\n",
    "#                              np.linspace(10, 40, 20))\n",
    "# xy_i = np.concatenate([grid_x, grid_y], axis=1)\n"
   ]
  },
  {
   "cell_type": "code",
   "execution_count": null,
   "id": "ad335e25-d3a6-4bf8-870a-2fea6213b174",
   "metadata": {},
   "outputs": [],
   "source": [
    "z=np.array(df_ib.Min_pres.values)\n",
    "x = df_ib.Longitude.values\n",
    "x = x[np.isfinite(z)] \n",
    "y = df_ib.Latitude.values\n",
    "y = y[np.isfinite(z)] \n",
    "values = z[np.isfinite(z)] \n",
    "\n",
    "stride=10\n",
    "\n",
    "x=x[::stride]\n",
    "y=y[::stride]\n",
    "values=values[::stride]\n",
    "\n",
    "points=np.array([x,y]).T\n",
    "\n",
    "\n",
    "print(x.shape)\n",
    "print(values.shape)"
   ]
  },
  {
   "cell_type": "code",
   "execution_count": null,
   "id": "ff6e38b7-7f87-4432-bab1-1f601d0df23a",
   "metadata": {},
   "outputs": [],
   "source": [
    "rbf = RBFInterpolator(points, values, kernel='gaussian',epsilon=2, smoothing=0.5)\n",
    "z_i = rbf(xy_i).reshape(x_i.shape).T\n",
    "z_i.shape\n",
    "\n",
    "fig, ax = plt.subplots(nrows=1, ncols=1 , figsize=(6,6), dpi=100) # , sharey=True)\n",
    "ax.set_aspect(1.0/np.cos(np.mean(y) * np.pi / 180.0))\n",
    "\n",
    "axm=ax.contourf(x_i,y_i,z_i, cmap=cheer_utils.cmap,  vmin=vmin, vmax=vmax) \n",
    "#  , levels=levels, norm=norm) #\n",
    "#axm=ax.scatter(x, y, 50, values, marker='o', cmap=cheer_utils.cmap,  edgecolors='k', vmin=vmin, vmax=vmax) # , norm=norm) #   \n",
    "#ax.set_title(t)\n",
    "fig.colorbar(axm, ax=ax, shrink=.85)\n",
    "ax.plot(cheer_utils.coastline[:,0],cheer_utils.coastline[:,1],color='k',linewidth=1)\n",
    "ax.set_xlim([-100-12, -40])\n",
    "ax.set_ylim([5, 55])\n"
   ]
  },
  {
   "cell_type": "code",
   "execution_count": null,
   "id": "4b6e3ed2-51af-4593-a95b-a93fb166bf2a",
   "metadata": {},
   "outputs": [],
   "source": [
    "model_rbf = sci.Rbf(x,y,values, smooth=1, degree=1, function='gaussian')"
   ]
  },
  {
   "cell_type": "code",
   "execution_count": null,
   "id": "1db24fb7-12fb-466d-9b5b-a2030e16cd2a",
   "metadata": {},
   "outputs": [],
   "source": [
    "Z_rbf = model_rbf(x_i, y_i)\n",
    "vmin=880\n",
    "vmax=1025\n",
    "fig, ax = plt.subplots(nrows=1, ncols=1 , figsize=(12,12), dpi=100) # , sharey=True)\n",
    "\n",
    "axm=ax.contourf(x_i,y_i,Z_rbf, cmap=cheer_utils.cmap,  vmin=vmin, vmax=vmax) \n",
    "#  , levels=levels, norm=norm) #\n",
    "ax.set_aspect(1.0/np.cos(np.mean(y) * np.pi / 180.0))\n",
    "#axm=ax.scatter(x, y, 50, values, marker='o', cmap=cheer_utils.cmap,  edgecolors='k', vmin=vmin, vmax=vmax) # , norm=norm) #   \n",
    "#ax.set_title(t)\n",
    "fig.colorbar(axm, ax=ax, shrink=.85)\n",
    "ax.plot(cheer_utils.coastline[:,0],cheer_utils.coastline[:,1],color='k',linewidth=1)\n",
    "ax.set_xlim([-100-12, -40])\n",
    "ax.set_ylim([5, 55])\n",
    "\n",
    "print(np.min(values),np.max(values))\n",
    "print(np.min(Z_rbf),np.max(Z_rbf))\n",
    "print(Z_rbf.shape)"
   ]
  },
  {
   "cell_type": "code",
   "execution_count": null,
   "id": "926fc59b-2ff9-4432-a4fd-0413632d321a",
   "metadata": {},
   "outputs": [],
   "source": [
    "fig, ax = plt.subplots(nrows=1,ncols=1,\n",
    "                       subplot_kw={'projection': ccrs.PlateCarree()},\n",
    "                       figsize=(16,7))\n",
    "\n",
    "ax.stock_img()\n",
    "ax.coastlines()\n",
    "\n",
    "plt.pcolor(grid_x,grid_y,z_i, )\n",
    "\n",
    "ax.axis('equal')\n",
    "ax.set_ylim([10, 50])\n",
    "ax.set_xlim([-100, -50])\n",
    "ax.grid(True)"
   ]
  },
  {
   "cell_type": "code",
   "execution_count": null,
   "id": "b57dbe2a-2d75-45cd-9e48-2334349b7974",
   "metadata": {},
   "outputs": [],
   "source": [
    "rng = np.random.default_rng()\n",
    "points = rng.random((1000, 2))"
   ]
  },
  {
   "cell_type": "code",
   "execution_count": null,
   "id": "056a18a0-c368-4e1e-b94f-e622a555ebfe",
   "metadata": {},
   "outputs": [],
   "source": [
    "rng = np.random.default_rng()\n",
    "xy = rng.random((100, 2))*4.0-2.0\n",
    "z = xy[:, 0]*np.exp(-xy[:, 0]**2-xy[:, 1]**2)\n",
    "edges = np.linspace(-2.0, 2.0, 101)\n",
    "centers = edges[:-1] + np.diff(edges[:2])[0] / 2.\n",
    "x_i, y_i = np.meshgrid(centers, centers)\n",
    "x_i = x_i.reshape(-1, 1)\n",
    "y_i = y_i.reshape(-1, 1)\n",
    "xy_i = np.concatenate([x_i, y_i], axis=1)\n",
    "rbf = RBFInterpolator(xy, z, epsilon=2)"
   ]
  },
  {
   "cell_type": "code",
   "execution_count": null,
   "id": "f030e8d1-2889-43f3-91fa-e13125ceb382",
   "metadata": {},
   "outputs": [],
   "source": [
    "ib_yc=[]\n",
    "st_yc=[]\n",
    "for y in np.unique(df_ib.Year):\n",
    "    i = df_ib.loc[(df_ib['Year'] == y)] \n",
    "    ib_yc.append(np.unique(i.index).shape[0])\n",
    "for y in np.unique(df_st.Year):\n",
    "    i = df_st.loc[(df_st['Year'] == y)] \n",
    "    st_yc.append(np.unique(i.index).shape[0])"
   ]
  },
  {
   "cell_type": "code",
   "execution_count": null,
   "id": "4da5bae4-7af3-4829-8753-4cdcbd551f49",
   "metadata": {},
   "outputs": [],
   "source": [
    "fig, ax = plt.subplots(nrows=2,ncols=1,figsize=(16,7),sharex=True, sharey=True)\n",
    "\n",
    "ax[0].hist(ib_yc, density=True)\n",
    "ax[1].hist(st_yc, density=True)\n",
    "\n",
    "ax[0].grid(True)\n",
    "ax[1].grid(True)"
   ]
  },
  {
   "cell_type": "code",
   "execution_count": null,
   "id": "e378b7e9-658d-4483-a4a5-8b3acc7f1d47",
   "metadata": {},
   "outputs": [],
   "source": []
  }
 ],
 "metadata": {
  "kernelspec": {
   "display_name": "cheer",
   "language": "python",
   "name": "cheer"
  },
  "language_info": {
   "codemirror_mode": {
    "name": "ipython",
    "version": 3
   },
   "file_extension": ".py",
   "mimetype": "text/x-python",
   "name": "python",
   "nbconvert_exporter": "python",
   "pygments_lexer": "ipython3",
   "version": "3.9.16"
  }
 },
 "nbformat": 4,
 "nbformat_minor": 5
}
