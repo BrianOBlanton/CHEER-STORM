{
 "cells": [
  {
   "cell_type": "code",
   "execution_count": null,
   "id": "08fa58e6-14e7-44fd-a0de-9a278ab6a2e8",
   "metadata": {},
   "outputs": [],
   "source": [
    "import sys\n",
    "import pandas as pd\n",
    "import numpy as np\n",
    "import matplotlib.pyplot as plt\n",
    "import matplotlib as mpl\n",
    "\n",
    "import cartopy.crs as ccrs\n",
    "import cheer_utils\n",
    "\n",
    "from scipy import interpolate as sci\n",
    "#from scipy.interpolate import RBFInterpolator\n",
    "\n",
    "# pd.options.mode.copy_on_write = True"
   ]
  },
  {
   "cell_type": "code",
   "execution_count": null,
   "id": "af98f570-01c8-4128-b031-4567b9bfc2d5",
   "metadata": {},
   "outputs": [],
   "source": [
    "# define dicts for filtering circles for case study areas:\n",
    "a=np.arange(0,370,10)*np.pi/180\n",
    "rad=3\n",
    "lo=-73.5\n",
    "la=33.75\n",
    "# test track screening circle\n",
    "# rad= .3\n",
    "# lo=-77.75\n",
    "# la=35\n",
    "nc_circ={'lo': lo,\n",
    "         'la': la, \n",
    "         'rad': rad,\n",
    "         'cirx': rad*np.cos(a)+lo,\n",
    "         'ciry': rad*np.sin(a)+la}\n",
    "\n",
    "rad=3\n",
    "lo=-94\n",
    "la=29.5\n",
    "tx_circ={'lo': lo,\n",
    "         'la':  la,\n",
    "         'rad': rad,\n",
    "         'cirx': rad*np.cos(a)+lo,\n",
    "         'ciry': rad*np.sin(a)+la}\n",
    "\n",
    "\n",
    "dlo, dla = 5, 5\n",
    "ext={ 0: [tx_circ['lo']-dlo, tx_circ['lo']+dlo, tx_circ['la']-dla, tx_circ['la']+dla],\n",
    "      1: [nc_circ['lo']-dlo, nc_circ['lo']+dlo, nc_circ['la']-dla, nc_circ['la']+dla]}\n"
   ]
  },
  {
   "cell_type": "code",
   "execution_count": null,
   "id": "f0f35c7e-f70d-4f2f-9eb3-5229d7fc7bc9",
   "metadata": {},
   "outputs": [],
   "source": [
    "# define some plotting vars\n",
    "\n",
    "makeplots=True\n",
    "writeoutputfiles=False\n",
    "# marker size\n",
    "sz=20\n"
   ]
  },
  {
   "cell_type": "code",
   "execution_count": null,
   "id": "29f18a27-5d10-4431-bdfb-5422968fdcc7",
   "metadata": {},
   "outputs": [],
   "source": [
    "df_ib=cheer_utils.LoadIBTrACS()"
   ]
  },
  {
   "cell_type": "code",
   "execution_count": null,
   "id": "f148c6e9-ae08-446b-a281-661be2c92c2e",
   "metadata": {},
   "outputs": [],
   "source": [
    "df_ib.loc[df_ib.RMW.idxmax()]\n",
    " \n",
    "#df_ib['RMW_nm']=df_ib['RMW']/1.852   "
   ]
  },
  {
   "cell_type": "code",
   "execution_count": null,
   "id": "d24856b3-066a-4526-990f-3c7b105e505b",
   "metadata": {},
   "outputs": [],
   "source": [
    "df_ib['RMW'].max()"
   ]
  },
  {
   "cell_type": "code",
   "execution_count": null,
   "id": "e690e1b9-8fc4-48a1-b015-8c2e3148557e",
   "metadata": {},
   "outputs": [],
   "source": [
    "#df_ib=df_ib.loc[(df_ib['NATURE']=='TS')]\n",
    "\n",
    "# delete tracks < 1980\n",
    "df_ib=df_ib.loc[(df_ib['Year'] >= 1980)] # & (df['Min_pres'] <= 980)]"
   ]
  },
  {
   "cell_type": "code",
   "execution_count": null,
   "id": "18c88259-fafe-4ba7-b794-6c302d8f569d",
   "metadata": {},
   "outputs": [],
   "source": [
    "df_st=cheer_utils.LoadSTORMtracks()\n",
    "# default is to read first 1000 yrs of present climate"
   ]
  },
  {
   "cell_type": "code",
   "execution_count": null,
   "id": "bca41ff5-0b9f-4a75-ad6e-8a75766c9124",
   "metadata": {},
   "outputs": [],
   "source": [
    "df_ib['dist2nc']=np.sqrt(np.square(df_ib['Longitude']-nc_circ['lo']) + np.square(df_ib['Latitude']-nc_circ['la']))\n",
    "df_ib['dist2tx']=np.sqrt(np.square(df_ib['Longitude']-tx_circ['lo']) + np.square(df_ib['Latitude']-tx_circ['la']))\n",
    "df_ib['HollandB']=cheer_utils.HbFromRmwLat(df_ib['RMW'],df_ib['Latitude'])\n",
    "\n",
    "df_st['dist2nc']=np.sqrt(np.square(df_st['Longitude']-nc_circ['lo']) + np.square(df_st['Latitude']-nc_circ['la']))\n",
    "df_st['dist2tx']=np.sqrt(np.square(df_st['Longitude']-tx_circ['lo']) + np.square(df_st['Latitude']-tx_circ['la']))\n",
    "df_st['HollandB']=cheer_utils.HbFromRmwLat(df_st['RMW'],df_st['Latitude'])"
   ]
  },
  {
   "cell_type": "code",
   "execution_count": null,
   "id": "4038f569-14e2-484b-962d-c5d8558f4ff0",
   "metadata": {},
   "outputs": [],
   "source": [
    "df_ib_nc=df_ib.loc[(df_ib['dist2nc'] <= nc_circ['rad'])] #  & (df_ib['NATURE']=='TS')]\n",
    "df_st_nc=df_st.loc[(df_st['dist2nc'] <= nc_circ['rad'])]"
   ]
  },
  {
   "cell_type": "code",
   "execution_count": null,
   "id": "612a42f9-a595-4dcc-93c1-1ca1a6b039b1",
   "metadata": {},
   "outputs": [],
   "source": [
    "print(density_ib)\n",
    "print(density_st)"
   ]
  },
  {
   "cell_type": "code",
   "execution_count": null,
   "id": "40bf90a9-825a-40b2-b6b1-bb255f20cb32",
   "metadata": {},
   "outputs": [],
   "source": [
    "lo0=-100\n",
    "lo1=0\n",
    "la0=0\n",
    "la1=70\n",
    "dx,dy=1,1\n",
    "\n",
    "lon_bins=np.arange(lo0,lo1,dx)\n",
    "lat_bins=np.arange(la0,la1,dy)\n",
    "\n",
    "density_ib, xedges, yedges = np.histogram2d(df_ib.Longitude,df_ib.Latitude, bins=(lon_bins,lat_bins), density=True)\n",
    "density_st, xedges, yedges = np.histogram2d(df_st.Longitude,df_st.Latitude, bins=(lon_bins,lat_bins), density=True)\n",
    "\n",
    "if makeplots:\n",
    "\n",
    "    cmap=cheer_utils.discrete_cmap(20, 'jet')\n",
    "#    vmin=0\n",
    "#    vmax=.0015\n",
    "#   log10\n",
    "    vmin=-4\n",
    "    vmax=-2.8\n",
    "    tstr=['IBTRaCS','STORM']\n",
    "        \n",
    "    fig, ax = plt.subplots(nrows=1,ncols=2,\n",
    "                           subplot_kw={'projection': ccrs.PlateCarree()},\n",
    "                           figsize=(16,6))\n",
    "    #ax=ax.flatten()\n",
    "\n",
    "    axm=[]\n",
    "    temp=np.where(density_ib.T< 0.00001, np.nan, density_ib.T)\n",
    "    axm.append(ax[0].pcolormesh(lon_bins,lat_bins,np.log10(temp), cmap=cmap, vmin=vmin, vmax=vmax)) \n",
    "    temp=np.where(density_st.T< 0.00001, np.nan, density_st.T)\n",
    "    axm.append(ax[1].pcolormesh(lon_bins,lat_bins,np.log10(temp), cmap=cmap, vmin=vmin, vmax=vmax)) \n",
    "\n",
    "    # hex grid\n",
    "#    axm.append(ax[0].hexbin(df_ib.Longitude,df_ib.Latitude, cmap=cmap, bins='log' )) # ,  vmin=vmin, vmax=vmax) \n",
    "#    axm.append(ax[1].hexbin(df_st.Longitude,df_st.Latitude, cmap=cmap, bins='log' )) # ,  vmin=vmin, vmax=vmax) \n",
    "\n",
    "    for i in range(0,2):\n",
    "        #ax[i].axis('equal')\n",
    "        ax[i].set_ylim([la0,la1])\n",
    "        ax[i].set_xlim([lo0, lo1])\n",
    "        ax[i].grid(True)\n",
    "        ax[i].set_aspect(1.0/np.cos(np.mean(lat_bins) * np.pi / 180.0))\n",
    "        cb=fig.colorbar(axm[i], ax=ax[i], shrink=0.70)\n",
    "        cb.ax.set_ylabel('point density (n/N/area)')\n",
    "        ax[i].stock_img()\n",
    "        ax[i].coastlines()\n",
    "        ax[i].set_title(tstr[i])\n"
   ]
  },
  {
   "cell_type": "code",
   "execution_count": null,
   "id": "a6e9813b-0171-482a-ad67-4f6475bf3f2b",
   "metadata": {},
   "outputs": [],
   "source": [
    "if makeplots:\n",
    "\n",
    "    fig, ax = plt.subplots(nrows=1,ncols=2,\n",
    "                           subplot_kw={'projection': ccrs.PlateCarree()},\n",
    "                           figsize=(16,7))\n",
    "    ax=ax.flatten()\n",
    "    \n",
    "    ax[0].stock_img()\n",
    "    ax[0].coastlines()\n",
    "    ax[1].stock_img()\n",
    "    ax[1].coastlines()\n",
    "    \n",
    "#     ax[0].plot(nc_circ['cirx'],nc_circ['ciry'],transform=ccrs.PlateCarree())\n",
    "#     ax[1].plot(tx_circ['cirx'],tx_circ['ciry'],transform=ccrs.PlateCarree())\n",
    "\n",
    "#     ax[0].plot(nc_circ['lo'],nc_circ['la'],marker='*',transform=ccrs.PlateCarree())\n",
    "#     ax[1].plot(tx_circ['lo'],tx_circ['la'],marker='*',transform=ccrs.PlateCarree())\n",
    "\n",
    "    for i in range(0,2):\n",
    "        ax[i].axis('equal')\n",
    "        ax[i].set_ylim([10, 50])\n",
    "        ax[i].set_xlim([-100, -50])\n",
    "        ax[i].grid(True)\n",
    "\n",
    "cheer_utils.TrackPlot(df_ib, axx=ax[0], addcolorbar=False)\n",
    "cheer_utils.TrackPlot(df_st, axx=ax[1], addcolorbar=False)"
   ]
  },
  {
   "cell_type": "code",
   "execution_count": null,
   "id": "f5558dfa-7966-4b7d-951f-09af0c5506a4",
   "metadata": {},
   "outputs": [],
   "source": [
    "fig, ax = plt.subplots(nrows=1,ncols=2,\n",
    "                       subplot_kw={'projection': ccrs.PlateCarree()},\n",
    "                       figsize=(16,7))\n",
    "ax=ax.flatten()\n",
    "\n",
    "ax[0].stock_img()\n",
    "ax[0].coastlines()\n",
    "ax[1].stock_img()\n",
    "ax[1].coastlines()\n",
    "\n",
    "\n",
    "ax[0].plot(nc_circ['cirx'],nc_circ['ciry'],transform=ccrs.PlateCarree())\n",
    "ax[1].plot(nc_circ['cirx'],nc_circ['ciry'],transform=ccrs.PlateCarree())\n",
    "\n",
    "ax[0].plot(nc_circ['lo'],nc_circ['la'],marker='*',transform=ccrs.PlateCarree())\n",
    "ax[1].plot(nc_circ['lo'],nc_circ['la'],marker='*',transform=ccrs.PlateCarree())\n",
    "\n",
    "cmap=cheer_utils.discrete_cmap(20, 'jet_r')\n",
    "\n",
    "for i in range(0,2):\n",
    "    ax[i].axis('equal')\n",
    "    ax[i].set_ylim([30, 40])\n",
    "    ax[i].set_xlim([-82, -70])\n",
    "    ax[i].grid(True)\n",
    "\n",
    "df_ib_nc.plot.scatter(x='Longitude',\n",
    "            y='Latitude',\n",
    "            c='Min_pres',\n",
    "            ax=ax[0],vmin=920,vmax=1020,cmap=cmap)\n",
    "df_st_nc.plot.scatter(x='Longitude',\n",
    "            y='Latitude',\n",
    "            c='Min_pres',\n",
    "            ax=ax[1],vmin=920,vmax=1020,cmap=cmap)\n",
    "\n",
    "ax[0].set_title('IBTRACS')\n",
    "ax[1].set_title('STORM')"
   ]
  },
  {
   "cell_type": "code",
   "execution_count": null,
   "id": "257070f0-98ce-4673-861b-168ffddc25ee",
   "metadata": {
    "tags": []
   },
   "outputs": [],
   "source": [
    "fig, ax = plt.subplots(nrows=1,ncols=2,figsize=(16,7))\n",
    "\n",
    "k='RMW'\n",
    "#xx=((df_ib['Min_pres'])).hist(ax=ax[0], density=True, bins=range(900,1020,10))\n",
    "axx=((df_ib[k])).hist(ax=ax[0], density=True) #, bins=range(900,1020,10))\n",
    "#axx.set_ylim([0, .040])\n",
    "axx.set_xlabel(k)\n",
    "ax[0].set_title('IBTRACS')\n",
    "\n",
    "#axx=((df_st['Min_pres'])).hist( ax=ax[1],density=True, bins=range(900,1020,10))\n",
    "axx=((df_st['RMW'])).hist( ax=ax[1],density=True)# , bins=range(900,1020,10))\n",
    "#axx.set_ylim([0, .040])\n",
    "axx.set_xlabel(k)\n",
    "ax[1].set_title('STORM')\n",
    "\n",
    "print(df_ib[k].max())\n",
    "print(df_st[k].max())\n"
   ]
  },
  {
   "cell_type": "code",
   "execution_count": null,
   "id": "65fe831b-1680-42af-8adf-483ae9eb40bc",
   "metadata": {},
   "outputs": [],
   "source": [
    "df_ib[df_ib[\"RMW\"] > 35]"
   ]
  },
  {
   "cell_type": "code",
   "execution_count": null,
   "id": "ffb20bac-0b68-4cdb-aad8-3bbd8c71831b",
   "metadata": {},
   "outputs": [],
   "source": [
    "\n",
    "x_i, y_i = np.meshgrid(np.linspace(-100, -60, 80), np.linspace(10, 50, 80))\n",
    "print(x_i.shape)\n",
    "xy_i = np.concatenate([x_i.reshape(-1, 1), y_i.reshape(-1, 1)], axis=1)\n",
    "\n",
    "# grid_x, grid_y = np.meshgrid(np.linspace(-90, -60, 20),\n",
    "#                              np.linspace(10, 40, 20))\n",
    "# xy_i = np.concatenate([grid_x, grid_y], axis=1)\n"
   ]
  },
  {
   "cell_type": "code",
   "execution_count": null,
   "id": "ad335e25-d3a6-4bf8-870a-2fea6213b174",
   "metadata": {},
   "outputs": [],
   "source": [
    "z=np.array(df_ib.Min_pres.values)\n",
    "x = df_ib.Longitude.values\n",
    "x = x[np.isfinite(z)] \n",
    "y = df_ib.Latitude.values\n",
    "y = y[np.isfinite(z)] \n",
    "values = z[np.isfinite(z)] \n",
    "\n",
    "stride=10\n",
    "\n",
    "x=x[::stride]\n",
    "y=y[::stride]\n",
    "values=values[::stride]\n",
    "\n",
    "points=np.array([x,y]).T\n",
    "\n",
    "\n",
    "print(x.shape)\n",
    "print(values.shape)"
   ]
  },
  {
   "cell_type": "code",
   "execution_count": null,
   "id": "ff6e38b7-7f87-4432-bab1-1f601d0df23a",
   "metadata": {},
   "outputs": [],
   "source": [
    "rbf = RBFInterpolator(points, values, kernel='gaussian',epsilon=2, smoothing=0.5)\n",
    "z_i = rbf(xy_i).reshape(x_i.shape).T\n",
    "z_i.shape\n",
    "\n",
    "fig, ax = plt.subplots(nrows=1, ncols=1 , figsize=(6,6), dpi=100) # , sharey=True)\n",
    "ax.set_aspect(1.0/np.cos(np.mean(y) * np.pi / 180.0))\n",
    "\n",
    "axm=ax.contourf(x_i,y_i,z_i, cmap=cheer_utils.cmap,  vmin=vmin, vmax=vmax) \n",
    "#  , levels=levels, norm=norm) #\n",
    "#axm=ax.scatter(x, y, 50, values, marker='o', cmap=cheer_utils.cmap,  edgecolors='k', vmin=vmin, vmax=vmax) # , norm=norm) #   \n",
    "#ax.set_title(t)\n",
    "fig.colorbar(axm, ax=ax, shrink=.85)\n",
    "ax.plot(cheer_utils.coastline[:,0],cheer_utils.coastline[:,1],color='k',linewidth=1)\n",
    "ax.set_xlim([-100-12, -40])\n",
    "ax.set_ylim([5, 55])\n"
   ]
  },
  {
   "cell_type": "code",
   "execution_count": null,
   "id": "4b6e3ed2-51af-4593-a95b-a93fb166bf2a",
   "metadata": {},
   "outputs": [],
   "source": [
    "model_rbf = sci.Rbf(x,y,values, smooth=1, degree=1, function='gaussian')"
   ]
  },
  {
   "cell_type": "code",
   "execution_count": null,
   "id": "1db24fb7-12fb-466d-9b5b-a2030e16cd2a",
   "metadata": {},
   "outputs": [],
   "source": [
    "Z_rbf = model_rbf(x_i, y_i)\n",
    "vmin=880\n",
    "vmax=1025\n",
    "fig, ax = plt.subplots(nrows=1, ncols=1 , figsize=(12,12), dpi=100) # , sharey=True)\n",
    "\n",
    "axm=ax.contourf(x_i,y_i,Z_rbf, cmap=cheer_utils.cmap,  vmin=vmin, vmax=vmax) \n",
    "#  , levels=levels, norm=norm) #\n",
    "ax.set_aspect(1.0/np.cos(np.mean(y) * np.pi / 180.0))\n",
    "#axm=ax.scatter(x, y, 50, values, marker='o', cmap=cheer_utils.cmap,  edgecolors='k', vmin=vmin, vmax=vmax) # , norm=norm) #   \n",
    "#ax.set_title(t)\n",
    "fig.colorbar(axm, ax=ax, shrink=.85)\n",
    "ax.plot(cheer_utils.coastline[:,0],cheer_utils.coastline[:,1],color='k',linewidth=1)\n",
    "ax.set_xlim([-100-12, -40])\n",
    "ax.set_ylim([5, 55])\n",
    "\n",
    "print(np.min(values),np.max(values))\n",
    "print(np.min(Z_rbf),np.max(Z_rbf))\n",
    "print(Z_rbf.shape)"
   ]
  },
  {
   "cell_type": "code",
   "execution_count": null,
   "id": "926fc59b-2ff9-4432-a4fd-0413632d321a",
   "metadata": {},
   "outputs": [],
   "source": [
    "fig, ax = plt.subplots(nrows=1,ncols=1,\n",
    "                       subplot_kw={'projection': ccrs.PlateCarree()},\n",
    "                       figsize=(16,7))\n",
    "\n",
    "ax.stock_img()\n",
    "ax.coastlines()\n",
    "\n",
    "plt.pcolor(grid_x,grid_y,z_i, )\n",
    "\n",
    "ax.axis('equal')\n",
    "ax.set_ylim([10, 50])\n",
    "ax.set_xlim([-100, -50])\n",
    "ax.grid(True)"
   ]
  },
  {
   "cell_type": "code",
   "execution_count": null,
   "id": "b57dbe2a-2d75-45cd-9e48-2334349b7974",
   "metadata": {},
   "outputs": [],
   "source": [
    "rng = np.random.default_rng()\n",
    "points = rng.random((1000, 2))"
   ]
  },
  {
   "cell_type": "code",
   "execution_count": null,
   "id": "056a18a0-c368-4e1e-b94f-e622a555ebfe",
   "metadata": {},
   "outputs": [],
   "source": [
    "rng = np.random.default_rng()\n",
    "xy = rng.random((100, 2))*4.0-2.0\n",
    "z = xy[:, 0]*np.exp(-xy[:, 0]**2-xy[:, 1]**2)\n",
    "edges = np.linspace(-2.0, 2.0, 101)\n",
    "centers = edges[:-1] + np.diff(edges[:2])[0] / 2.\n",
    "x_i, y_i = np.meshgrid(centers, centers)\n",
    "x_i = x_i.reshape(-1, 1)\n",
    "y_i = y_i.reshape(-1, 1)\n",
    "xy_i = np.concatenate([x_i, y_i], axis=1)\n",
    "rbf = RBFInterpolator(xy, z, epsilon=2)"
   ]
  },
  {
   "cell_type": "code",
   "execution_count": null,
   "id": "f030e8d1-2889-43f3-91fa-e13125ceb382",
   "metadata": {},
   "outputs": [],
   "source": [
    "ib_yc=[]\n",
    "st_yc=[]\n",
    "for y in np.unique(df_ib.Year):\n",
    "    i = df_ib.loc[(df_ib['Year'] == y)] \n",
    "    ib_yc.append(np.unique(i.index).shape[0])\n",
    "for y in np.unique(df_st.Year):\n",
    "    i = df_st.loc[(df_st['Year'] == y)] \n",
    "    st_yc.append(np.unique(i.index).shape[0])"
   ]
  },
  {
   "cell_type": "code",
   "execution_count": null,
   "id": "4da5bae4-7af3-4829-8753-4cdcbd551f49",
   "metadata": {},
   "outputs": [],
   "source": [
    "fig, ax = plt.subplots(nrows=2,ncols=1,figsize=(16,7),sharex=True, sharey=True)\n",
    "\n",
    "ax[0].hist(ib_yc, density=True)\n",
    "ax[1].hist(st_yc, density=True)\n",
    "\n",
    "ax[0].grid(True)\n",
    "ax[1].grid(True)"
   ]
  },
  {
   "cell_type": "code",
   "execution_count": null,
   "id": "e378b7e9-658d-4483-a4a5-8b3acc7f1d47",
   "metadata": {},
   "outputs": [],
   "source": []
  }
 ],
 "metadata": {
  "kernelspec": {
   "display_name": "cheer",
   "language": "python",
   "name": "cheer"
  },
  "language_info": {
   "codemirror_mode": {
    "name": "ipython",
    "version": 3
   },
   "file_extension": ".py",
   "mimetype": "text/x-python",
   "name": "python",
   "nbconvert_exporter": "python",
   "pygments_lexer": "ipython3",
   "version": "3.9.16"
  }
 },
 "nbformat": 4,
 "nbformat_minor": 5
}
