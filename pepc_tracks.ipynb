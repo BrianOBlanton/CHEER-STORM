{
 "cells": [
  {
   "cell_type": "code",
   "execution_count": 7,
   "id": "5e39fcd9-d942-4096-a318-5ce58d705847",
   "metadata": {},
   "outputs": [
    {
     "name": "stdout",
     "output_type": "stream",
     "text": [
      "\n",
      "    CHEER_UTILS\n",
      "    utilities for CHEER-STORM\n",
      "    from repo for codes/processing of STORM datasets for CHEER\n",
      "    Version 1.6, 13 May 2024\n",
      "    GitHub Repo: git@github.com:BrianOBlanton/CHEER-STORM.git\n",
      "    Brian Blanton, RENCI\n",
      "\n"
     ]
    }
   ],
   "source": [
    "import os, sys\n",
    "import pandas as pd\n",
    "import numpy as np\n",
    "import matplotlib.pyplot as plt\n",
    "import matplotlib as mpl\n",
    "\n",
    "import cartopy.crs as ccrs\n",
    "\n",
    "import cheer_utils\n",
    "import importlib\n",
    "importlib.reload(cheer_utils)\n",
    "print(cheer_utils.__doc__)"
   ]
  },
  {
   "cell_type": "code",
   "execution_count": 12,
   "id": "24aa09af-a351-46a7-b3ca-8d86910d6e75",
   "metadata": {},
   "outputs": [
    {
     "name": "stdout",
     "output_type": "stream",
     "text": [
      "PEPC_Tracks/reanal_100/selected25_simSS_g001/lon.csv\n"
     ]
    }
   ],
   "source": [
    "path2pepcfiles=\"PEPC_Tracks/reanal_100\"\n",
    "pepc=cheer_utils.LoadPEPC(path2pepcfiles)                 # loads first set\n",
    "#pepc=cheer_utils.LoadPEPC(path2pepcfiles,setnums=[1,4])  # loads first and fourth sets\n",
    "#pepc=cheer_utils.LoadPEPC(path2pepcfiles,setnums='all')  # loads all set"
   ]
  },
  {
   "cell_type": "code",
   "execution_count": null,
   "id": "df51c5e9-fde0-43dc-a94e-97cdd7c6afc4",
   "metadata": {},
   "outputs": [],
   "source": [
    "cmap=cheer_utils.discrete_cmap(32, 'jet')\n",
    "norm = mpl.colors.Normalize(vmin=0, vmax=100)\n",
    "\n",
    "fig = plt.figure(figsize=(16, 10))\n",
    "\n",
    "ax = plt.axes(projection=ccrs.Orthographic(central_longitude=-60,central_latitude=0))\n",
    "ax.stock_img()\n",
    "ax.coastlines()\n",
    "\n",
    "idx=np.unique(storms2.index).astype(int)\n",
    "\n",
    "for i,idx in enumerate(idx): \n",
    "    x=pepc.loc[pepc.index==idx].Longitude.values\n",
    "    y=pepc.loc[pepc.index==idx].Latitude.values\n",
    "    c=pepc.loc[pepc.index==idx].wind.values\n",
    "    ax.plot(x,y, transform=ccrs.PlateCarree(),color='k',linewidth=.25) \n",
    "    # cm=ax.scatter(x=x, y=y, c=c, s=10, \n",
    "    #               transform=ccrs.PlateCarree(),cmap=cmap, norm=norm)\n",
    "    #if i==1: break\n",
    "    \n",
    "\n",
    "ax.set_extent([-120, 0, 0, 70], crs=ccrs.PlateCarree())\n",
    "gl = ax.gridlines(crs=ccrs.PlateCarree(), draw_labels=True,\n",
    "              linewidth=1, color='k', alpha=0.25, linestyle='--')\n",
    "ax.set_title(f'PEPC_Tracks/reanal_100/selected25_simSS_g{setnum:03d}')\n",
    "ax.grid(True)\n",
    "\n",
    "# cb1 = plt.colorbar(cm, ax=ax, orientation='vertical', pad=0.05, aspect=20, shrink=0.8)\n",
    "# cb1.ax.set_ylabel('pepc \"wind\"', size=12)\n",
    "# cb1.ax.tick_params(labelsize='large')\n"
   ]
  },
  {
   "cell_type": "code",
   "execution_count": null,
   "id": "c282c745-18aa-478f-895c-b0bdb4a1a97e",
   "metadata": {},
   "outputs": [],
   "source": []
  }
 ],
 "metadata": {
  "kernelspec": {
   "display_name": "cheer",
   "language": "python",
   "name": "cheer"
  },
  "language_info": {
   "codemirror_mode": {
    "name": "ipython",
    "version": 3
   },
   "file_extension": ".py",
   "mimetype": "text/x-python",
   "name": "python",
   "nbconvert_exporter": "python",
   "pygments_lexer": "ipython3",
   "version": "3.9.16"
  }
 },
 "nbformat": 4,
 "nbformat_minor": 5
}
