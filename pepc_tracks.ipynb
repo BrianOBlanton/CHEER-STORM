{
 "cells": [
  {
   "cell_type": "code",
   "execution_count": null,
   "id": "45b01fdb-f6ea-422d-b140-fdfb5fe59455",
   "metadata": {},
   "outputs": [],
   "source": [
    "import os, sys\n",
    "import pandas as pd\n",
    "import numpy as np\n",
    "import matplotlib.pyplot as plt\n",
    "import matplotlib as mpl\n",
    "\n",
    "import cartopy.crs as ccrs\n",
    "\n",
    "import cheer_utils\n",
    "import importlib\n",
    "importlib.reload(cheer_utils)\n",
    "print(cheer_utils.__doc__)\n",
    "\n",
    "path2pepcfiles=\"PEPC_Tracks/reanal_100\"\n",
    "setnums=range(1,11)\n",
    "pepc=cheer_utils.LoadPEPC(path2pepcfiles,setnums=setnums) # loads first set\n",
    "#pepc=cheer_utils.LoadPEPC(path2pepcfiles,setnums=[1,4])  # loads first and fourth sets\n",
    "#pepc=cheer_utils.LoadPEPC(path2pepcfiles,setnums='all')  # loads all set"
   ]
  },
  {
   "cell_type": "code",
   "execution_count": null,
   "id": "f0cdef2c-68f3-47db-8d4b-e9dc4987fcf0",
   "metadata": {},
   "outputs": [],
   "source": [
    "pepc"
   ]
  },
  {
   "cell_type": "code",
   "execution_count": null,
   "id": "df51c5e9-fde0-43dc-a94e-97cdd7c6afc4",
   "metadata": {},
   "outputs": [],
   "source": [
    "cmap=cheer_utils.discrete_cmap(32, 'jet')\n",
    "norm = mpl.colors.Normalize(vmin=0, vmax=100)\n",
    "tstr=f'PEPc tracks\\n setnums={setnums}'\n",
    "\n",
    "\n",
    "fig = plt.figure(figsize=(16, 10))\n",
    "\n",
    "ax = plt.axes(projection=ccrs.Orthographic(central_longitude=-60,central_latitude=0))\n",
    "ax.stock_img()\n",
    "ax.coastlines()\n",
    "\n",
    "idx=np.unique(pepc.index).astype(int)\n",
    "\n",
    "for i,idx in enumerate(idx): \n",
    "    x=pepc.loc[pepc.index==idx].Longitude.values\n",
    "    y=pepc.loc[pepc.index==idx].Latitude.values\n",
    "    c=pepc.loc[pepc.index==idx].wind.values\n",
    "    ax.plot(x,y, transform=ccrs.PlateCarree(),color='k',linewidth=.25) \n",
    "    # cm=ax.scatter(x=x, y=y, c=c, s=10, \n",
    "    #               transform=ccrs.PlateCarree(),cmap=cmap, norm=norm)\n",
    "    #if i==1: break\n",
    "    \n",
    "\n",
    "ax.set_extent([-120, 0, 0, 70], crs=ccrs.PlateCarree())\n",
    "gl = ax.gridlines(crs=ccrs.PlateCarree(), draw_labels=True,\n",
    "              linewidth=1, color='k', alpha=0.25, linestyle='--')\n",
    "ax.set_title(tstr)\n",
    "ax.grid(True)\n",
    "\n",
    "# cb1 = plt.colorbar(cm, ax=ax, orientation='vertical', pad=0.05, aspect=20, shrink=0.8)\n",
    "# cb1.ax.set_ylabel('pepc \"wind\"', size=12)\n",
    "# cb1.ax.tick_params(labelsize='large')\n"
   ]
  },
  {
   "cell_type": "code",
   "execution_count": null,
   "id": "c282c745-18aa-478f-895c-b0bdb4a1a97e",
   "metadata": {},
   "outputs": [],
   "source": [
    "# generate a grid for histogram2d\n",
    "lo0=-100\n",
    "lo1=0\n",
    "la0=0\n",
    "la1=70\n",
    "dx,dy=2,2\n",
    "\n",
    "lon_bins=np.arange(lo0,lo1,dx)\n",
    "lat_bins=np.arange(la0,la1,dy)\n",
    "\n",
    "density=True\n",
    "log10=True\n",
    "normalized_count=False\n",
    "cmapName='RdBu_r'\n",
    "\n",
    "\n",
    "density_pc,      _,      _ = np.histogram2d(pepc.Longitude,pepc.Latitude, bins=(lon_bins,lat_bins), density=density)\n",
    "\n",
    "print(density_pc.min(),density_pc.max())\n",
    "nc=10\n",
    "\n",
    "temppc=density_pc.T.copy()\n",
    "cbstr='Density'\n",
    "tstr=f'PEPc tracks\\n setnums={setnums}'\n",
    "temppc=np.where(temppc < 0.0001, np.nan, temppc)"
   ]
  },
  {
   "cell_type": "code",
   "execution_count": null,
   "id": "96c13b85-5575-4792-bf88-e1a4e94bb8cd",
   "metadata": {},
   "outputs": [],
   "source": [
    "ThisCmap=cheer_utils.discrete_cmap(nc, cmapName)\n",
    "\n",
    "fig = plt.figure(figsize=(16, 10))\n",
    "\n",
    "ax = plt.axes(projection=ccrs.Orthographic(central_longitude=-60,central_latitude=0) )\n",
    "ax.stock_img()\n",
    "ax.coastlines()\n",
    "\n",
    "ax.set_extent([-120, 0, 0, 70], crs=ccrs.PlateCarree())\n",
    "gl = ax.gridlines(crs=ccrs.PlateCarree(), draw_labels=True,\n",
    "              linewidth=1, color='k', alpha=0.25, linestyle='--')\n",
    "ax.set_title(tstr)\n",
    "ax.grid(True)\n",
    "axm=plt.pcolormesh(lon_bins, lat_bins, temppc, cmap=ThisCmap, transform=ccrs.PlateCarree()) #, vmin=vmin0, vmax=vmax0)\n",
    "cb=fig.colorbar(axm, ax=ax, shrink=0.62)\n",
    "cb.ax.set_ylabel(cbstr)"
   ]
  },
  {
   "cell_type": "code",
   "execution_count": null,
   "id": "e452013b-b28e-4882-87a4-76f1fe7dec4d",
   "metadata": {},
   "outputs": [],
   "source": []
  }
 ],
 "metadata": {
  "kernelspec": {
   "display_name": "cheer",
   "language": "python",
   "name": "cheer"
  },
  "language_info": {
   "codemirror_mode": {
    "name": "ipython",
    "version": 3
   },
   "file_extension": ".py",
   "mimetype": "text/x-python",
   "name": "python",
   "nbconvert_exporter": "python",
   "pygments_lexer": "ipython3",
   "version": "3.9.16"
  }
 },
 "nbformat": 4,
 "nbformat_minor": 5
}
